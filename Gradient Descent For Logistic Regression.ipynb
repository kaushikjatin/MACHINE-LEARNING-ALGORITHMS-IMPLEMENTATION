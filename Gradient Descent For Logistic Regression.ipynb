{
 "cells": [
  {
   "cell_type": "code",
   "execution_count": 1,
   "metadata": {},
   "outputs": [],
   "source": [
    "import random;\n",
    "def grad(x,y,alpha,iterations):\n",
    "    m=np.array([0.001 for i in range(0,len(x[0]))]);\n",
    "    for i in range(iterations):\n",
    "        g=np.dot(x,m.T);\n",
    "        h=sigmoid(g);\n",
    "        #print(h);\n",
    "        slope=-(np.dot(x.T,y-h))/len(y);\n",
    "        m=m-alpha*slope;\n",
    "       # print(cost(y,h));\n",
    "    return m;\n",
    "        \n",
    "        \n",
    "        \n",
    "def sigmoid(g):\n",
    "    return 1/(1+np.exp(-g));\n",
    "\n",
    "def cost(y,h):\n",
    "    #print(h);\n",
    "    return (-y*(np.log(h))-(1-y)*(np.log(1-h))).mean()"
   ]
  },
  {
   "cell_type": "code",
   "execution_count": 2,
   "metadata": {
    "scrolled": false
   },
   "outputs": [
    {
     "name": "stdout",
     "output_type": "stream",
     "text": [
      "[ 0.01144868  0.01145516  0.05850585  0.01655179  0.00108539  0.00086985\n",
      "  0.00069204  0.00087217  0.00116658  0.00107414  0.00109336  0.00184316\n",
      "  0.00064575 -0.01748976  0.0010048   0.00096411  0.00094937  0.00098983\n",
      "  0.00101305  0.00099929  0.01193045  0.01211481  0.05539726 -0.02685198\n",
      "  0.00109636  0.00047989  0.00020707  0.00079866  0.00117303  0.0010419\n",
      "  0.00246763]\n"
     ]
    }
   ],
   "source": [
    "import numpy as np;\n",
    "from sklearn import datasets;\n",
    "dataset=datasets.load_breast_cancer();\n",
    "x=dataset['data']\n",
    "length=x.shape[0];\n",
    "x=np.append(x,np.array([[1] for i in range(0,length)]),axis=1);\n",
    "y=dataset['target']\n",
    "m=grad(x,y,0.0000054,10000);\n",
    "print(m);"
   ]
  },
  {
   "cell_type": "code",
   "execution_count": 12,
   "metadata": {},
   "outputs": [
    {
     "name": "stdout",
     "output_type": "stream",
     "text": [
      "No of cases for whom we need to classify as malignent or not= 569\n",
      "No of Cases for which our prediction is wrong = 44\n",
      "ensurity_value-->The confidence with which we predict that this input belong to our predicted class...\n",
      "Org Pred ensurity_value\n",
      " [0, 1, 0.8263924185035756]\n",
      " [0, 1, 0.5728413696990753]\n",
      " [0, 1, 0.8860625258034681]\n",
      " [0, 1, 0.9524208699191958]\n",
      " [0, 1, 0.8120506160501333]\n",
      " [0, 1, 0.9420763879759154]\n",
      " [0, 1, 0.743950453836803]\n",
      " [0, 1, 0.8850831522831492]\n",
      " [0, 1, 0.612848970801]\n",
      " [0, 1, 0.6937691849166828]\n",
      " [0, 1, 0.8805072177793588]\n",
      " [1, 0, 0.09399180213787595]\n",
      " [0, 1, 0.631270546842255]\n",
      " [0, 1, 0.7941775140343538]\n",
      " [0, 1, 0.7960168319965539]\n",
      " [0, 1, 0.7515751346016748]\n",
      " [0, 1, 0.8264197387060073]\n",
      " [0, 1, 0.9534115209987106]\n",
      " [1, 0, 0.35077460551988743]\n",
      " [0, 1, 0.8426752967499385]\n",
      " [0, 1, 0.6579875722150771]\n",
      " [0, 1, 0.7356298550804399]\n",
      " [1, 0, 0.1948425472171611]\n",
      " [0, 1, 0.6706370314962651]\n",
      " [0, 1, 0.7874323379348261]\n",
      " [1, 0, 0.47584505723372156]\n",
      " [0, 1, 0.5101540594332258]\n",
      " [1, 0, 0.3550383476223548]\n",
      " [1, 0, 0.39011829752414834]\n",
      " [0, 1, 0.7055520014325993]\n",
      " [1, 0, 0.46298552770765944]\n",
      " [0, 1, 0.9149138595736085]\n",
      " [0, 1, 0.9038266838054996]\n",
      " [0, 1, 0.919993318120335]\n",
      " [1, 0, 0.318368384873212]\n",
      " [1, 0, 0.49878185804474506]\n",
      " [0, 1, 0.8561686016405228]\n",
      " [1, 0, 0.2806315194125127]\n",
      " [1, 0, 0.0838035677237591]\n",
      " [0, 1, 0.5825868769808095]\n",
      " [0, 1, 0.6933057074735185]\n",
      " [1, 0, 0.34870737464692564]\n",
      " [0, 1, 0.9445920909236595]\n",
      " [0, 1, 0.7926468841661171]\n"
     ]
    }
   ],
   "source": [
    "g=np.dot(x,m.T);\n",
    "h=sigmoid(g);\n",
    "y_pred=[];\n",
    "print(\"No of cases for whom we need to classify as malignent or not=\",len(y));\n",
    "print(\"No of Cases for which our prediction is wrong =\",end=\" \");\n",
    "no_of_wrong=0;\n",
    "for i in range(0,len(y)):\n",
    "    temp=0;\n",
    "    if(h[i]>0.5):\n",
    "        temp=1;\n",
    "    else:\n",
    "        temp=0;\n",
    "    if(y[i]!=temp):\n",
    "        no_of_wrong+=1;\n",
    "        y_pred.append([y[i],temp,h[i]]);\n",
    "print(no_of_wrong);\n",
    "print(\"ensurity_value-->The confidence with which we predict that this input belong to our predicted class...\")\n",
    "print(\"Org Pred ensurity_value\")\n",
    "for i in y_pred:\n",
    "    print(\"\",i)"
   ]
  }
 ],
 "metadata": {
  "kernelspec": {
   "display_name": "Python 3",
   "language": "python",
   "name": "python3"
  },
  "language_info": {
   "codemirror_mode": {
    "name": "ipython",
    "version": 3
   },
   "file_extension": ".py",
   "mimetype": "text/x-python",
   "name": "python",
   "nbconvert_exporter": "python",
   "pygments_lexer": "ipython3",
   "version": "3.7.3"
  }
 },
 "nbformat": 4,
 "nbformat_minor": 2
}
