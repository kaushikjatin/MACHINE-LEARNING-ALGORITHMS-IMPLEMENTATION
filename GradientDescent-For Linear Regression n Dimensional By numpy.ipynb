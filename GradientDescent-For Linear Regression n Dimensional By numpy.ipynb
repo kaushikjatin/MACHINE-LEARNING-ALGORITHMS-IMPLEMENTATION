{
 "cells": [
  {
   "cell_type": "code",
   "execution_count": 2,
   "metadata": {},
   "outputs": [],
   "source": [
    "def get_slope(data,m,c):\n",
    "    slope=np.array([0.0 for i in range(0,len(data[0])-1)]);\n",
    "    #print(m,c);\n",
    "    c_slope=0;\n",
    "    temp=[(m*data[i,0:-1]).sum() for i in range(0,len(data))]\n",
    "    for u in range(0,len(slope)):\n",
    "        slope[u]=2/(len(data))*sum([(data[i,-1]-temp[i]-c)*(-1*data[i,u]) for i in range(0,len(data))]);\n",
    "    c_slope=2/(len(data))*sum([(data[i,-1]-temp[i]-c)*(-1) for i in range(0,len(data))]);\n",
    "    return slope,c_slope;"
   ]
  },
  {
   "cell_type": "code",
   "execution_count": 39,
   "metadata": {},
   "outputs": [],
   "source": [
    "def grad(data,alpha,num_iterations):\n",
    "    m=np.array([0 for i in range(0,len(data[0])-1)]);\n",
    "    c=0;\n",
    "    for i in range(0,num_iterations):\n",
    "        slope,c_slope=get_slope(data,m,c);\n",
    "        m=m-alpha*slope;\n",
    "        c=c-alpha*c_slope;\n",
    "        #print(m,c);\n",
    "       # print(cost(data,m,c));\n",
    "    return m,c;"
   ]
  },
  {
   "cell_type": "code",
   "execution_count": 9,
   "metadata": {},
   "outputs": [],
   "source": [
    "def findoutput(data,m,c):\n",
    "    output=np.array([(data[i,]*m).sum() +c for i in range(0,len(data))]);\n",
    "    return output;"
   ]
  },
  {
   "cell_type": "code",
   "execution_count": 8,
   "metadata": {},
   "outputs": [],
   "source": [
    "def cost(data,m,c):\n",
    "    total_cost=sum([(data[i,-1]-(data[i,0:-1]*m + c).sum())**2 for i in range(0,len(data))]);\n",
    "    return total_cost/len(data);"
   ]
  },
  {
   "cell_type": "code",
   "execution_count": 54,
   "metadata": {},
   "outputs": [
    {
     "data": {
      "image/png": "[encoded data removed]",
      "text/plain": [
       "<Figure size 432x288 with 1 Axes>"
      ]
     },
     "metadata": {
      "needs_background": "light"
     },
     "output_type": "display_data"
    },
    {
     "name": "stdout",
     "output_type": "stream",
     "text": [
      "[0.06484078949376892] -0.12176616480172425\n",
      "[-0.05692537530795533   0.007915414185813596  0.07275620367958252\n",
      "  0.13759699317335145   0.20243778266712037   0.2672785721608893\n",
      "  0.3321193616546582    0.39696015114842714   0.46180094064219607\n",
      "  0.5266417301359649    0.591482519629734     0.6563233091235028\n",
      "  0.7211640986172718    0.7860048881110406    0.8508456776048097\n",
      "  0.9156864670985785    0.9805272565923473    1.0453680460861163  ]\n"
     ]
    }
   ],
   "source": [
    "import numpy as np;\n",
    "import matplotlib.pyplot as plt;\n",
    "from sklearn import preprocessing;\n",
    "np.set_printoptions(precision=20);\n",
    "data=np.loadtxt('train.csv',delimiter=\",\");\n",
    "data=np.array([[1,0],[2,0],[3,0],[4,0],[5,0],[6,0],[7,0],[8,0],[9,0],[10,0],[11,1],[12,1],[13,1],[14,1],[15,1],[16,1],[17,1],[18,1]]);\n",
    "#print(data);\n",
    "scaler=preprocessing.StandardScaler();\n",
    "scaler.fit(data[0:,0:-1]);\n",
    "scaler.transform(data[0:,0:-1]);\n",
    "alpha=0.001;\n",
    "num_iterations=1000;\n",
    "m,c=grad(data,alpha,num_iterations);\n",
    "plt.scatter(data[:,0:-1],data[:,-1]);\n",
    "y=1/(1+np.exp(-1*m*data[:,0:-1]-c));\n",
    "plt.plot(data[:,0:-1],y);\n",
    "plt.show();\n",
    "print(m,c);\n",
    "print(findoutput(data[:,0:-1],m,c));"
   ]
  },
  {
   "cell_type": "code",
   "execution_count": 13,
   "metadata": {},
   "outputs": [
    {
     "name": "stdout",
     "output_type": "stream",
     "text": [
      "[12.433283163608154   29.03367206183974    22.37164470460162\n",
      " 24.477785650997447   20.60167145814241     2.7253322701632463\n",
      " 30.400002511878867   24.86119998910311    18.657250218077852\n",
      " 23.539858367954842   24.11396868280094    17.711438951258284\n",
      " 17.440004988505414   21.65356361904753    42.31137754129465\n",
      " 23.849745770140043   24.47573228790675    27.5387277248376\n",
      " 20.236067718631322   31.15155567670337    23.782380843054057\n",
      " 25.009794060472863   33.95768518077513    36.43515606728859\n",
      " 32.0409839934184     16.713225590920707   23.47176648948982\n",
      " 32.93828179193933    25.180699664168525   33.71008693411526\n",
      " 16.885802481332384   26.027609433764955   23.270400545276274\n",
      " 25.47758947541637    15.009466261817012   29.58574991776654\n",
      " 26.248212464072658   20.372458058199456   24.43681389965212\n",
      "  9.447069047856536    8.380965952663242   29.013923043915305\n",
      " 29.59085454512752    19.75757025112273    20.371967494353196\n",
      "  3.144425921673399   39.52420105901088    25.717412235804723\n",
      " 30.3772944144984     16.794532382039904   17.890886137851226\n",
      " 41.02574345808216    17.572387620263434   20.896627065873467\n",
      " 15.598377345667279   21.413948277896182   18.454364472083153\n",
      " 23.15576400048293    13.67245063534111    17.23573843129877\n",
      " 15.027104029592758   29.151313544780116   25.171665125909577\n",
      " 25.497493714409245   17.211866335142197   17.429369751528565\n",
      " 34.703727441117586   17.013407729114995   27.107241879832607\n",
      " 22.546956760985932   29.253370569780618   27.110181124024464\n",
      " 17.734022031189994    5.747047254044883   36.876537349937635\n",
      " 25.091939271645558   30.15053551257776    27.240808583521268\n",
      " 16.252184178251685   32.63542249430202    19.273513522093527\n",
      " 22.654169157416753   22.229354275865205    8.550848771613857\n",
      " 17.33054333504305    29.175917356704772   27.208361539787543\n",
      "  5.885768892512587   21.91465191096905    20.115498092043637\n",
      " 22.176739495329475   20.527006341785043   20.851813995943722\n",
      " 13.181320344917513   19.69404966168289    25.986667804764032\n",
      " 40.27067678937088    19.77706011423463    33.70256508905784\n",
      " 27.22074027460217    28.745170958063778   22.115438492291315\n",
      " 25.913519039305996   31.30678488238953    17.152974522791197\n",
      " 26.371378617708324   21.44657084006031    36.739246426288304\n",
      " 22.08272790357732    16.709061626024102   27.594582280632224\n",
      " -0.05974769762882559 13.861881595485604   16.28772084925628\n",
      " 35.77134414922339    20.852146337624777   20.772868884800445\n",
      " 25.35136007691147    21.787822330741633   18.847202994292537\n",
      " 13.514891183123883   35.61958186084103    23.091396804687196\n",
      " 25.01812773284072    17.464933794760917   20.73710021245149\n",
      " 14.729937424174398  ]\n"
     ]
    }
   ],
   "source": [
    "data=np.loadtxt('test.csv',delimiter=\",\");\n",
    "scaler.transform(data);\n",
    "y_pred=findoutput(data,m,c);\n",
    "np.savetxt('predictions.csv',y_pred,fmt='%.9f');\n",
    "print(y_pred);"
   ]
  }
 ],
 "metadata": {
  "kernelspec": {
   "display_name": "Python 3",
   "language": "python",
   "name": "python3"
  },
  "language_info": {
   "codemirror_mode": {
    "name": "ipython",
    "version": 3
   },
   "file_extension": ".py",
   "mimetype": "text/x-python",
   "name": "python",
   "nbconvert_exporter": "python",
   "pygments_lexer": "ipython3",
   "version": "3.7.3"
  }
 },
 "nbformat": 4,
 "nbformat_minor": 2
}
