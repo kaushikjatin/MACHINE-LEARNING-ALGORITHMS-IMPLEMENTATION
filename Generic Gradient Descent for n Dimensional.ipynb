{
 "cells": [
  {
   "cell_type": "code",
   "execution_count": 17,
   "metadata": {},
   "outputs": [],
   "source": [
    "def mian_value1(data,list1,row):\n",
    "    n=len(data);\n",
    "    yi=data[row,len(data[0])-1];\n",
    "    for j in range(0,len(data[row])-1):\n",
    "         yi-=list1[j]*data[row,j];\n",
    "    yi=yi-list1[-1];\n",
    "    return yi;"
   ]
  },
  {
   "cell_type": "code",
   "execution_count": 16,
   "metadata": {},
   "outputs": [],
   "source": [
    "def step_grad(data,list1,alpha):\n",
    "    slope=[0 for i in range(0,len(data[0]))];\n",
    "    n=len(data);\n",
    "    \n",
    "    # the main value if for the yi-m1x1-m2x2------c which we need for each row \n",
    "    main_value=[0 for i in range(0,len(data))];\n",
    "    for i in range(0,len(data)):\n",
    "        main_value[i]=mian_value1(data,list1,i);\n",
    "    \n",
    "    \n",
    "    # now our first work is to calculate the slope for each xi and not for c;;;;\n",
    "    for i in range(0,len(slope)-1):\n",
    "        temp=0;\n",
    "        for j in range(0,len(main_value)):\n",
    "            temp+=main_value[j]*(-1*data[j,i]);\n",
    "        slope[i]=(2/n)*temp;\n",
    "            \n",
    "        \n",
    "        \n",
    "    # we  wew calculating the slope for the c here in this loop................    \n",
    "    temp=0;\n",
    "    for j in range(0,len(main_value)):\n",
    "        temp+=main_value[j]*(-1);\n",
    "    slope[-1]=(2/n)*temp;\n",
    "            \n",
    "   # print(slope,end=\"\");\n",
    "    \n",
    "    # now we will calculate the new m for each feature........\n",
    "    for i in range(0,len(list1)):\n",
    "        list1[i]-=alpha*slope[i];\n",
    "    return list1;\n",
    "         "
   ]
  },
  {
   "cell_type": "code",
   "execution_count": 15,
   "metadata": {},
   "outputs": [],
   "source": [
    "def grad(data,alpha,num_iterations):\n",
    "    list1=[0 for i in range(0,len(data[0]))];\n",
    "    for i in range(0,num_iterations):\n",
    "        list1=step_grad(data,list1,alpha);\n",
    "        #print(list1);\n",
    "        #print(cost(data,list1));\n",
    "    return list1;\n",
    "        "
   ]
  },
  {
   "cell_type": "code",
   "execution_count": 2,
   "metadata": {},
   "outputs": [],
   "source": [
    "def cost(train_data,list1):\n",
    "    total_cost=0;\n",
    "    for i in train_data:\n",
    "        yi=0;\n",
    "        for j in range(0,len(i)-1):\n",
    "            yi+=list1[j]*i[j];\n",
    "        yi=yi+list1[-1];\n",
    "        #print(i[-1],yi);\n",
    "        yi=i[-1]-yi;\n",
    "        total_cost+=yi*yi;\n",
    "    return total_cost/len(data);\n",
    "        \n",
    "    "
   ]
  },
  {
   "cell_type": "code",
   "execution_count": 30,
   "metadata": {},
   "outputs": [],
   "source": [
    "def findanswer(train_data,list1):\n",
    "    total_cost=0;\n",
    "    for i in train_data:\n",
    "        #print(len(i),len(list1));\n",
    "        yi=0;\n",
    "        for j in range(0,len(i)):\n",
    "            yi+=list1[j]*i[j];\n",
    "        yi=yi+list1[-1];\n",
    "        #print(i[-1],yi);\n",
    "        list1.append(yi);\n",
    "    return list1;\n",
    "        \n",
    "    "
   ]
  },
  {
   "cell_type": "code",
   "execution_count": 35,
   "metadata": {},
   "outputs": [
    {
     "name": "stdout",
     "output_type": "stream",
     "text": [
      "[[   8.58   38.38 1021.03   84.37  482.26]\n",
      " [  21.79   58.2  1017.21   66.74  446.94]\n",
      " [  16.64   48.92 1011.55   78.76  452.56]\n",
      " ...\n",
      " [  29.8    69.34 1009.36   64.74  437.65]\n",
      " [  16.37   54.3  1017.94   63.63  459.97]\n",
      " [  30.11   62.04 1010.69   47.96  444.42]]\n"
     ]
    }
   ],
   "source": [
    "import numpy as np;\n",
    "from sklearn import preprocessing;\n",
    "data=np.loadtxt('train1.csv',delimiter=\",\");\n",
    "scaler=preprocessing.StandardScaler();\n",
    "scaler.fit(data[0:,0:-1]);\n",
    "scaler.transform(data[0:,0:-1]);\n",
    "print(data);\n",
    "alpha=0.1;\n",
    "num_iterations=30;\n",
    "list1=grad(data,alpha,num_iterations);\n",
    "#print(list1);\n",
    "#print(cost(data,list1));"
   ]
  },
  {
   "cell_type": "code",
   "execution_count": 38,
   "metadata": {},
   "outputs": [],
   "source": [
    "data=np.loadtxt('test1.csv',delimiter=\",\");\n",
    "scaler=preprocessing.StandardScaler();\n",
    "scaler.fit(data);\n",
    "y_pred=findanswer(data[0:,0:-1],list1);\n",
    "np.savetxt('predictions1.csv',y_pred);"
   ]
  },
  {
   "cell_type": "code",
   "execution_count": null,
   "metadata": {},
   "outputs": [],
   "source": []
  }
 ],
 "metadata": {
  "kernelspec": {
   "display_name": "Python 3",
   "language": "python",
   "name": "python3"
  },
  "language_info": {
   "codemirror_mode": {
    "name": "ipython",
    "version": 3
   },
   "file_extension": ".py",
   "mimetype": "text/x-python",
   "name": "python",
   "nbconvert_exporter": "python",
   "pygments_lexer": "ipython3",
   "version": "3.7.3"
  }
 },
 "nbformat": 4,
 "nbformat_minor": 2
}
