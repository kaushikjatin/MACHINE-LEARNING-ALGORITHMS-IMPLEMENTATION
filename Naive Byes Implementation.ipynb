{
 "cells": [
  {
   "cell_type": "code",
   "execution_count": 1,
   "metadata": {},
   "outputs": [],
   "source": [
    "import numpy;"
   ]
  },
  {
   "cell_type": "code",
   "execution_count": 2,
   "metadata": {},
   "outputs": [],
   "source": [
    "def fit(x_train,y_train):\n",
    "    dict1={};\n",
    "    class_values=set(y_train);\n",
    "    dict1[\"total_data\"]=len(x_train);\n",
    "    for class_name in class_values:\n",
    "        all_rows=x_train[y_train==class_name];\n",
    "        dict1[class_name]={};\n",
    "        no_features=x_train.shape[1];\n",
    "        dict1[class_name][\"total_count\"]=(y_train==class_name).sum();\n",
    "        for j in range(1,no_features+1):\n",
    "            dict1[class_name][j]={};\n",
    "            all_possible_values=set(x_train[:,j-1]);\n",
    "            for i in all_possible_values:\n",
    "                dict1[class_name][j][i]=(all_rows[:,j-1]==i).sum();\n",
    "    return dict1;\n",
    "        "
   ]
  },
  {
   "cell_type": "code",
   "execution_count": 3,
   "metadata": {},
   "outputs": [],
   "source": [
    "def makelabelled(column):\n",
    "    mean=column.mean();\n",
    "    first=0.5*mean;\n",
    "    third=1.5*mean;\n",
    "    for i in range(0,len(column)):\n",
    "        if(column[i]<first):\n",
    "            column[i]=0;\n",
    "        elif(column[i]<mean):\n",
    "            column[i]=1;\n",
    "        elif(column[i]<third):\n",
    "            column[i]=2;\n",
    "        else:\n",
    "            column[i]=3;\n",
    "    return column;\n",
    "    "
   ]
  },
  {
   "cell_type": "code",
   "execution_count": 4,
   "metadata": {},
   "outputs": [],
   "source": [
    "import math;\n",
    "def prob(dict1,x,class_name):\n",
    "    output=math.log(dict1[class_name][\"total_count\"])-math.log(dict1[\"total_data\"]);\n",
    "    num_features=x.shape[0];\n",
    "    for i in range(1,num_features+1):\n",
    "        num=dict1[class_name][i][x[i-1]]+1;\n",
    "        den=dict1[class_name][\"total_count\"]+len(dict1[class_name][i].keys());\n",
    "        output=output+(math.log(num)-math.log(den));\n",
    "    return output;\n",
    "    \n",
    "    "
   ]
  },
  {
   "cell_type": "code",
   "execution_count": 5,
   "metadata": {},
   "outputs": [],
   "source": [
    "def pobability_of_single_point(dict1,x):\n",
    "    classes=dict1.keys();\n",
    "    output_class=-1;\n",
    "    best_prob=-1000;\n",
    "    for i in classes:\n",
    "        if i==\"total_data\":\n",
    "            continue;\n",
    "        temp=prob(dict1,x,i);\n",
    "        if(temp>best_prob):\n",
    "            output_class=i;\n",
    "            best_prob=temp;\n",
    "    return output_class;\n",
    "        "
   ]
  },
  {
   "cell_type": "code",
   "execution_count": 6,
   "metadata": {},
   "outputs": [],
   "source": [
    "def predict(x,dict1):\n",
    "    y_pred=[];\n",
    "    for i in x:\n",
    "        y_pred.append(pobability_of_single_point(dict1,i));\n",
    "    return y_pred;\n",
    "        "
   ]
  },
  {
   "cell_type": "code",
   "execution_count": 7,
   "metadata": {},
   "outputs": [],
   "source": [
    "from sklearn import datasets;\n",
    "from sklearn import model_selection;\n",
    "data=datasets.load_iris();\n",
    "x=data.data;\n",
    "y=data.target;"
   ]
  },
  {
   "cell_type": "code",
   "execution_count": 8,
   "metadata": {},
   "outputs": [],
   "source": [
    "for i in range(0,x.shape[-1]):\n",
    "    x[:,i]=makelabelled(x[:,i]);\n",
    "    "
   ]
  },
  {
   "cell_type": "code",
   "execution_count": 36,
   "metadata": {},
   "outputs": [
    {
     "name": "stdout",
     "output_type": "stream",
     "text": [
      "[2 1 0 2 0 2 0 1 1 1 1 1 1 1 1 0 1 1 0 0 2 1 0 0 2 0 0 1 1 0 2 1 0 2 2 1 0\n",
      " 1]\n",
      "[2 1 0 2 0 2 0 1 1 1 2 1 1 1 1 0 1 1 0 0 2 1 0 0 2 0 0 1 1 0 2 1 0 2 2 1 0\n",
      " 1]\n"
     ]
    }
   ],
   "source": [
    "import numpy as np;\n",
    "x_train,x_test,y_train,y_test=model_selection.train_test_split(x,y,random_state=0,test_size=0.25);\n",
    "dict1=fit(x_train,y_train);\n",
    "y_pred=predict(x_test,dict1);\n",
    "print(np.array(y_pred));\n",
    "print(y_test);"
   ]
  },
  {
   "cell_type": "code",
   "execution_count": 34,
   "metadata": {},
   "outputs": [
    {
     "name": "stdout",
     "output_type": "stream",
     "text": [
      "              precision    recall  f1-score   support\n",
      "\n",
      "           0       1.00      1.00      1.00        13\n",
      "           1       1.00      0.94      0.97        17\n",
      "           2       0.89      1.00      0.94         8\n",
      "\n",
      "    accuracy                           0.97        38\n",
      "   macro avg       0.96      0.98      0.97        38\n",
      "weighted avg       0.98      0.97      0.97        38\n",
      "\n",
      "0.9736842105263158\n"
     ]
    }
   ],
   "source": [
    "from sklearn.metrics import classification_report,confusion_matrix,accuracy_score\n",
    "print(classification_report(y_pred,y_test));\n",
    "my_accuracy=accuracy_score(y_pred,y_test);\n",
    "print(my_accuracy);"
   ]
  },
  {
   "cell_type": "code",
   "execution_count": 31,
   "metadata": {},
   "outputs": [],
   "source": [
    "from sklearn import naive_bayes\n",
    "clf = naive_bayes.MultinomialNB();\n",
    "clf.fit(x_train,y_train);\n",
    "y_pred_by_classifier=clf.predict(x_test);"
   ]
  },
  {
   "cell_type": "code",
   "execution_count": 37,
   "metadata": {},
   "outputs": [
    {
     "name": "stdout",
     "output_type": "stream",
     "text": [
      "Classifier Accuracy Score is------>>>>>> 0.5263157894736842\n",
      "My implemented algo accuracy score is------>>>>>> 0.9736842105263158\n"
     ]
    }
   ],
   "source": [
    "SKLEARN_IMPLEMENTATION_ACCURACY_SCORE = accuracy_score(y_pred_by_classifier,y_test)\n",
    "print(\"Classifier Accuracy Score is------>>>>>>\",SKLEARN_IMPLEMENTATION_ACCURACY_SCORE)\n",
    "print(\"My implemented algo accuracy score is------>>>>>>\",my_accuracy)"
   ]
  }
 ],
 "metadata": {
  "kernelspec": {
   "display_name": "Python 3",
   "language": "python",
   "name": "python3"
  },
  "language_info": {
   "codemirror_mode": {
    "name": "ipython",
    "version": 3
   },
   "file_extension": ".py",
   "mimetype": "text/x-python",
   "name": "python",
   "nbconvert_exporter": "python",
   "pygments_lexer": "ipython3",
   "version": "3.7.3"
  }
 },
 "nbformat": 4,
 "nbformat_minor": 2
}
